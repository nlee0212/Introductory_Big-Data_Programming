{
 "cells": [
  {
   "cell_type": "code",
   "execution_count": 37,
   "metadata": {},
   "outputs": [
    {
     "name": "stdout",
     "output_type": "stream",
     "text": [
      "Overwriting W_2.py\n"
     ]
    }
   ],
   "source": [
    "%%writefile W_2.py\n",
    "\n",
    "import sys\n",
    "import datetime\n",
    "\n",
    "if __name__ == \"__main__\":\n",
    "    daystring = [\"월요일\", \"화요일\", \"수요일\", \"목요일\", \"금요일\", \"토요일\", \"일요일\"]\n",
    "    year, month, day = float(sys.argv[1]),float(sys.argv[2]),float(sys.argv[3])\n",
    "    year, month, day = int(year),int(month),int(day)\n",
    "    date = datetime.date(year,month,day).weekday()\n",
    "    print(daystring[date])"
   ]
  },
  {
   "cell_type": "code",
   "execution_count": 38,
   "metadata": {},
   "outputs": [
    {
     "name": "stdout",
     "output_type": "stream",
     "text": [
      "화요일\n"
     ]
    }
   ],
   "source": [
    "%run W_2.py 2019 10 1"
   ]
  },
  {
   "cell_type": "code",
   "execution_count": 39,
   "metadata": {},
   "outputs": [
    {
     "name": "stdout",
     "output_type": "stream",
     "text": [
      "월요일\n"
     ]
    }
   ],
   "source": [
    "%run W_2.py 2019 10 14"
   ]
  },
  {
   "cell_type": "code",
   "execution_count": 22,
   "metadata": {},
   "outputs": [
    {
     "data": {
      "text/plain": [
       "'nt'"
      ]
     },
     "execution_count": 22,
     "metadata": {},
     "output_type": "execute_result"
    }
   ],
   "source": [
    "# 파이썬을 이용하여 자신의 운영체제의 종류를 구하시오.\n",
    "\n",
    "import os\n",
    "os.name"
   ]
  },
  {
   "cell_type": "code",
   "execution_count": 41,
   "metadata": {},
   "outputs": [
    {
     "name": "stdout",
     "output_type": "stream",
     "text": [
      "Writing leapArg.py\n"
     ]
    }
   ],
   "source": [
    "%%writefile leapArg.py\n",
    "\n",
    "import sys #sys.argv: 주어진 명령행 인자를 담고 있는 리스트\n",
    "\n",
    "def is_leap(year):\n",
    "    if year%4 == 0:\n",
    "        if year%400 == 0 or year%100 != 0:\n",
    "            return True\n",
    "        else:\n",
    "            return False\n",
    "\n",
    "def cal_day_num(year,month,day):\n",
    "    day_num = 0\n",
    "    for i in range(1,year):\n",
    "        if(is_leap(i)):\n",
    "            day_num+=366\n",
    "        else:\n",
    "            day_num+=365\n",
    "            \n",
    "    for m in range(1,month):\n",
    "        if m<8:\n",
    "            if m%2==1:\n",
    "                    day_num+=31\n",
    "            elif m!= 2:\n",
    "                day_num+=30\n",
    "            elif (is_leap(year)):\n",
    "                day_num+=29\n",
    "            else: \n",
    "                day_num+=28\n",
    "        else:\n",
    "            if m%2==0:\n",
    "                day_num+=31\n",
    "            else:\n",
    "                day_num+=30\n",
    "                \n",
    "    day_num+=day\n",
    "    return day_num\n",
    "        \n",
    "def calc_day_name(day_num):\n",
    "    print((day_name).get((day_num)%7))\n",
    "\n",
    "if __name__ == \"__main__\":\n",
    "    day_name = {\n",
    "            1: \"월요일\", 2: \"화요일\", 3: \"수요일\", \n",
    "            4: \"목요일\", 5: \"금요일\", 6: \"토요일\", \n",
    "            0: \"일요일\"\n",
    "    }\n",
    "    year = float(sys.argv[1])\n",
    "    month = float(sys.argv[2])\n",
    "    day = float(sys.argv[3])\n",
    "    day_num = cal_day_num(int(year),int(month),int(day))\n",
    "    calc_day_name(day_num)"
   ]
  },
  {
   "cell_type": "code",
   "execution_count": 42,
   "metadata": {},
   "outputs": [
    {
     "name": "stdout",
     "output_type": "stream",
     "text": [
      "일요일\n"
     ]
    }
   ],
   "source": [
    "%run leapArg.py 2018 4 15"
   ]
  },
  {
   "cell_type": "code",
   "execution_count": 45,
   "metadata": {},
   "outputs": [
    {
     "name": "stdout",
     "output_type": "stream",
     "text": [
      "1. -1.6351885780427125e-13\n",
      "2. 2.939601270583009e+48\n",
      "3. 1.0000000000000002\n"
     ]
    }
   ],
   "source": [
    "# 수식을 math 모듈을 이용하여 작성하기\n",
    "import math\n",
    "\n",
    "# 1. 2000/log(20)*sin(2pi)\n",
    "print(\"1.\",(2000/math.log(20))*math.sin(2*math.pi))\n",
    "\n",
    "# 2. 3^100 * log(300)\n",
    "print(\"2.\",math.pow(3,100)*math.log(300))\n",
    "\n",
    "#3. sin(45 deg)*sprt(2)\n",
    "print(\"3.\",math.sin(math.pi/4)*math.sqrt(2))"
   ]
  },
  {
   "cell_type": "code",
   "execution_count": 52,
   "metadata": {},
   "outputs": [
    {
     "name": "stdout",
     "output_type": "stream",
     "text": [
      "가위, 바위, 보 중 하나를 선택하시오: 보\n",
      "플레이어: 보\n",
      "컴퓨터: 가위\n",
      "컴퓨터가 이겼습니다.\n"
     ]
    }
   ],
   "source": [
    "# random 모듈을 이용하여 가위, 바위, 보 게임을 만드시오\n",
    "\n",
    "import random\n",
    "\n",
    "def player_win(player,computer):\n",
    "    if (player==\"가위\" and computer==\"보\"): return True\n",
    "    if (player==\"바위\" and computer==\"가위\"): return True\n",
    "    if (player==\"보\" and computer==\"바위\"): return True\n",
    "\n",
    "computer = [\"가위\",\"바위\",\"보\"]\n",
    "\n",
    "player = input(\"가위, 바위, 보 중 하나를 선택하시오: \")\n",
    "print(\"플레이어:\",player)\n",
    "computer_play = computer[random.randint(0,2)]\n",
    "print(\"컴퓨터:\",computer_play)\n",
    "\n",
    "if(computer_play == player):\n",
    "    print(\"비겼습니다.\")\n",
    "elif player_win(player,computer_play):\n",
    "    print(\"당신이 이겼습니다.\")\n",
    "else:\n",
    "    print(\"컴퓨터가 이겼습니다.\")"
   ]
  },
  {
   "cell_type": "code",
   "execution_count": null,
   "metadata": {},
   "outputs": [],
   "source": []
  }
 ],
 "metadata": {
  "kernelspec": {
   "display_name": "Python 3",
   "language": "python",
   "name": "python3"
  },
  "language_info": {
   "codemirror_mode": {
    "name": "ipython",
    "version": 3
   },
   "file_extension": ".py",
   "mimetype": "text/x-python",
   "name": "python",
   "nbconvert_exporter": "python",
   "pygments_lexer": "ipython3",
   "version": "3.7.4"
  }
 },
 "nbformat": 4,
 "nbformat_minor": 2
}
