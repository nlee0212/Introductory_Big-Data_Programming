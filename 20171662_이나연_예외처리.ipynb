{
 "cells": [
  {
   "cell_type": "markdown",
   "metadata": {},
   "source": [
    "## 실습 1"
   ]
  },
  {
   "cell_type": "code",
   "execution_count": 5,
   "metadata": {},
   "outputs": [
    {
     "name": "stdout",
     "output_type": "stream",
     "text": [
      "Overwriting score_exception.py\n"
     ]
    }
   ],
   "source": [
    "%%writefile score_exception.py\n",
    "\n",
    "class ScoreException(Exception):\n",
    "    def __init__(self,msg):\n",
    "        self._msg = msg\n",
    "        \n",
    "def input_score():\n",
    "    score  = int(input(\"점수를 입력하시오: \"))\n",
    "    if score>100 or score<0:\n",
    "        raise ScoreException(\"점수는 0점에서 100점 사이의 값이어야 합니다.\")\n",
    "    else:\n",
    "        return score\n",
    "    \n",
    "if __name__ == \"__main__\":\n",
    "    try:\n",
    "        score = input_score()\n",
    "    except ScoreException as s:\n",
    "        print(s.args[0])\n",
    "    else:\n",
    "        print(\"점수는 %d입니다.\"%score)"
   ]
  },
  {
   "cell_type": "code",
   "execution_count": 6,
   "metadata": {},
   "outputs": [
    {
     "name": "stdout",
     "output_type": "stream",
     "text": [
      "점수를 입력하시오: 101\n",
      "점수는 0점에서 100점 사이의 값이어야 합니다.\n"
     ]
    }
   ],
   "source": [
    "%run score_exception"
   ]
  },
  {
   "cell_type": "code",
   "execution_count": 7,
   "metadata": {},
   "outputs": [
    {
     "name": "stdout",
     "output_type": "stream",
     "text": [
      "점수를 입력하시오: 99\n",
      "점수는 99입니다.\n"
     ]
    }
   ],
   "source": [
    "%run score_exception"
   ]
  },
  {
   "cell_type": "code",
   "execution_count": 8,
   "metadata": {},
   "outputs": [
    {
     "name": "stdout",
     "output_type": "stream",
     "text": [
      "점수를 입력하시오: -21\n",
      "점수는 0점에서 100점 사이의 값이어야 합니다.\n"
     ]
    }
   ],
   "source": [
    "%run score_exception"
   ]
  },
  {
   "cell_type": "markdown",
   "metadata": {},
   "source": [
    "## 실습 2"
   ]
  },
  {
   "cell_type": "code",
   "execution_count": 4,
   "metadata": {},
   "outputs": [
    {
     "name": "stdout",
     "output_type": "stream",
     "text": [
      "Overwriting list_index.py\n"
     ]
    }
   ],
   "source": [
    "%%writefile list_index.py\n",
    "        \n",
    "if __name__ == \"__main__\":\n",
    "    num=[0,1,2,3,4,5,6,7,8,9,10]\n",
    "    while True:\n",
    "        try:\n",
    "            index = int(input(\"인덱스 값을 입력하시오: \"))\n",
    "            data = num[index]\n",
    "        except IndexError:\n",
    "            print(-1,\"\\n\")\n",
    "        except ValueError:\n",
    "            print(\"프로그램을 종료합니다.\")\n",
    "            break\n",
    "        else:\n",
    "            print(\"인덱스 {}에 해당하는 값은 {}입니다.\\n\".format(index,data))\n",
    "            "
   ]
  },
  {
   "cell_type": "code",
   "execution_count": 5,
   "metadata": {},
   "outputs": [
    {
     "name": "stdout",
     "output_type": "stream",
     "text": [
      "인덱스 값을 입력하시오: 3\n",
      "인덱스 3에 해당하는 값은 3입니다.\n",
      "\n",
      "인덱스 값을 입력하시오: 2\n",
      "인덱스 2에 해당하는 값은 2입니다.\n",
      "\n",
      "인덱스 값을 입력하시오: 5\n",
      "인덱스 5에 해당하는 값은 5입니다.\n",
      "\n",
      "인덱스 값을 입력하시오: 90\n",
      "-1 \n",
      "\n",
      "인덱스 값을 입력하시오: 42\n",
      "-1 \n",
      "\n",
      "인덱스 값을 입력하시오: \n",
      "프로그램을 종료합니다.\n"
     ]
    }
   ],
   "source": [
    "%run list_index"
   ]
  },
  {
   "cell_type": "code",
   "execution_count": null,
   "metadata": {},
   "outputs": [],
   "source": []
  }
 ],
 "metadata": {
  "kernelspec": {
   "display_name": "Python 3",
   "language": "python",
   "name": "python3"
  },
  "language_info": {
   "codemirror_mode": {
    "name": "ipython",
    "version": 3
   },
   "file_extension": ".py",
   "mimetype": "text/x-python",
   "name": "python",
   "nbconvert_exporter": "python",
   "pygments_lexer": "ipython3",
   "version": "3.7.4"
  }
 },
 "nbformat": 4,
 "nbformat_minor": 2
}
