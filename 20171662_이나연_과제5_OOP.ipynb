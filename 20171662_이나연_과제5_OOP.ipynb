{
 "cells": [
  {
   "cell_type": "code",
   "execution_count": 3,
   "metadata": {},
   "outputs": [
    {
     "name": "stdout",
     "output_type": "stream",
     "text": [
      "Overwriting dayname_leap_OOP.py\n"
     ]
    }
   ],
   "source": [
    "%%writefile dayname_leap_OOP.py\n",
    "\n",
    "def input_date():\n",
    "    year = int(input(\"__년도를 입력하시오:\"))\n",
    "    month = int(input(\"__월을 입력하시오:\"))\n",
    "    day = int(input(\"__일을 입력하시오:\"))\n",
    "    return year, month, day\n",
    "\n",
    "def is_leap(year):\n",
    "    if year%4 == 0:\n",
    "        if year%400 == 0 or year%100 != 0:\n",
    "            return 1\n",
    "        else:\n",
    "            return 0\n",
    "        \n",
    "class Day(object):\n",
    "    def __init__(self,year,month,day):\n",
    "        self.year = year\n",
    "        self.month = month\n",
    "        self.day = day\n",
    "        self.day_num = 0\n",
    "        self.day_name = {\n",
    "            1: \"월요일\", 2: \"화요일\", 3: \"수요일\", \n",
    "            4: \"목요일\", 5: \"금요일\", 6: \"토요일\", \n",
    "            0: \"일요일\"\n",
    "        }\n",
    "        self.isleap = 0\n",
    "                \n",
    "    def cal_day_num(self):\n",
    "        for i in range(1,self.year):\n",
    "            if(is_leap(i)):\n",
    "                self.day_num+=366\n",
    "            else:\n",
    "                self.day_num+=365\n",
    "            \n",
    "        for m in range(1,self.month):\n",
    "            if m<8:\n",
    "                if m%2==1:\n",
    "                    self.day_num+=31\n",
    "                elif m!= 2:\n",
    "                    self.day_num+=30\n",
    "                elif (self.isleap):\n",
    "                    self.day_num+=29\n",
    "                else: \n",
    "                    self.day_num+=28\n",
    "            else:\n",
    "                if m%2==0:\n",
    "                    self.day_num+=31\n",
    "                else:\n",
    "                    self.day_num+=30\n",
    "                \n",
    "        self.day_num+=self.day\n",
    "        \n",
    "    def calc_day_name(self):\n",
    "        self.cal_day_num()\n",
    "        print((self.day_name).get((self.day_num)%7))\n",
    "    \n",
    "if __name__ == \"__main__\":\n",
    "    year,month,day = input_date()\n",
    "    if is_leap(year)==1 and month == 2 and day > 29:\n",
    "        print(\"2월은 29일까지입니다.\")\n",
    "    elif is_leap(year)==0 and month == 2 and day >28:\n",
    "        print(\"2월은 28일까지입니다.\")\n",
    "    elif year>0 and month >0 and month <= 12 and day > 0:\n",
    "        date = Day(year,month,day)\n",
    "        date.isleap=is_leap(year)\n",
    "        date.calc_day_name()\n",
    "        if date.isleap:\n",
    "            print(\"입력하신 %s은 윤년입니다\" %year)\n",
    "    else:\n",
    "        print(\"년/월/일을 확인하시오.\")\n",
    "        \n",
    "    "
   ]
  },
  {
   "cell_type": "code",
   "execution_count": 4,
   "metadata": {},
   "outputs": [
    {
     "name": "stdout",
     "output_type": "stream",
     "text": [
      "__년도를 입력하시오:2020\n",
      "__월을 입력하시오:4\n",
      "__일을 입력하시오:14\n",
      "화요일\n",
      "입력하신 2020은 윤년입니다\n"
     ]
    }
   ],
   "source": [
    "%run dayname_leap_OOP.py"
   ]
  },
  {
   "cell_type": "code",
   "execution_count": 3,
   "metadata": {},
   "outputs": [
    {
     "name": "stdout",
     "output_type": "stream",
     "text": [
      "__년도를 입력하시오:1988\n",
      "__월을 입력하시오:12\n",
      "__일을 입력하시오:22\n",
      "목요일\n",
      "입력하신 1988은 윤년입니다\n"
     ]
    }
   ],
   "source": [
    "%run dayname_leap_OOP.py"
   ]
  },
  {
   "cell_type": "code",
   "execution_count": null,
   "metadata": {},
   "outputs": [],
   "source": []
  }
 ],
 "metadata": {
  "kernelspec": {
   "display_name": "Python 3",
   "language": "python",
   "name": "python3"
  },
  "language_info": {
   "codemirror_mode": {
    "name": "ipython",
    "version": 3
   },
   "file_extension": ".py",
   "mimetype": "text/x-python",
   "name": "python",
   "nbconvert_exporter": "python",
   "pygments_lexer": "ipython3",
   "version": "3.7.4"
  }
 },
 "nbformat": 4,
 "nbformat_minor": 2
}
