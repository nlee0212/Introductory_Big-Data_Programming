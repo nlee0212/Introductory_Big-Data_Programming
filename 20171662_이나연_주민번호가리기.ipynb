{
 "cells": [
  {
   "cell_type": "code",
   "execution_count": 25,
   "metadata": {},
   "outputs": [
    {
     "name": "stdout",
     "output_type": "stream",
     "text": [
      "Overwriting hide_reg.py\n"
     ]
    }
   ],
   "source": [
    "%%writefile hide_reg.py\n",
    "import pickle\n",
    "\n",
    "def mod_data(data):\n",
    "    line = data.split(\" \")\n",
    "    reg_num = line[2].split(\"-\")\n",
    "    if int(reg_num[1][0])%2 == 1:\n",
    "        print(line[0],line[1],\"남\",reg_num[0]+\"-*******\")\n",
    "    else:\n",
    "        print(line[0],line[1],\"여\",reg_num[0]+\"-*******\")\n",
    "        \n",
    "def mod_data2(data):\n",
    "    line = data.split(\" \")\n",
    "    reg_num = line[1].split(\"-\")\n",
    "    if int(reg_num[1][0])%2==1:\n",
    "        print(line[0],\"남\",reg_num[0]+\"-*******\",line[2])\n",
    "    else:\n",
    "        print(line[0],\"여\",reg_num[0]+\"-*******\",line[2])\n",
    "\n",
    "if __name__ == \"__main__\":\n",
    "    data = \"park sunje 890901-1074422\\nkim sunhee 990103-2079912\"\n",
    "    line = data.split(\"\\n\")\n",
    "    print(\"data:\")\n",
    "    for item in line:\n",
    "        mod_data(item)\n",
    "\n",
    "    fp = open(\"Testdata.txt\",\"wt\")\n",
    "    fp.write(\"홍길동 560922-1089123 02-705-8491\\n\")\n",
    "    fp.write(\"홍길동 560922-1089123 042-7052-8491\\n\")\n",
    "    fp.write(\"김바한솔 911212-1089123 042-705-8491\\n\")\n",
    "    fp.write(\"김연찬 920922-1089123 031-7054-8491\\n\")\n",
    "    fp.close()\n",
    "    \n",
    "    fp = open(\"Testdata.txt\",\"rt\")\n",
    "    data = fp.read()\n",
    "    line = data.split(\"\\n\")\n",
    "    print(\"\\nTestdata.txt:\")\n",
    "    for item in line:\n",
    "        try:\n",
    "            mod_data2(item)\n",
    "        except:\n",
    "            break"
   ]
  },
  {
   "cell_type": "code",
   "execution_count": 26,
   "metadata": {},
   "outputs": [
    {
     "name": "stdout",
     "output_type": "stream",
     "text": [
      "data:\n",
      "park sunje 남 890901-*******\n",
      "kim sunhee 여 990103-*******\n",
      "\n",
      "Testdata.txt:\n",
      "홍길동 남 560922-******* 02-705-8491\n",
      "홍길동 남 560922-******* 042-7052-8491\n",
      "김바한솔 남 911212-******* 042-705-8491\n",
      "김연찬 남 920922-******* 031-7054-8491\n"
     ]
    }
   ],
   "source": [
    "%run hide_reg"
   ]
  },
  {
   "cell_type": "code",
   "execution_count": null,
   "metadata": {},
   "outputs": [],
   "source": []
  }
 ],
 "metadata": {
  "kernelspec": {
   "display_name": "Python 3",
   "language": "python",
   "name": "python3"
  },
  "language_info": {
   "codemirror_mode": {
    "name": "ipython",
    "version": 3
   },
   "file_extension": ".py",
   "mimetype": "text/x-python",
   "name": "python",
   "nbconvert_exporter": "python",
   "pygments_lexer": "ipython3",
   "version": "3.7.4"
  }
 },
 "nbformat": 4,
 "nbformat_minor": 2
}
