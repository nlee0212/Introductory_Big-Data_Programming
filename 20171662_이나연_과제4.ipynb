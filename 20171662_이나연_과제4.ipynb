{
 "cells": [
  {
   "cell_type": "code",
   "execution_count": 12,
   "metadata": {},
   "outputs": [
    {
     "name": "stdout",
     "output_type": "stream",
     "text": [
      "Overwriting chan.py\n"
     ]
    }
   ],
   "source": [
    "%%writefile chan.py\n",
    "\n",
    "while 1:\n",
    "    st_input = input(\"Input:\")\n",
    "    res = \"\"\n",
    "    seq = \"\"\n",
    "    freq_dict={}\n",
    "    \n",
    "    if st_input == \"STOP\":\n",
    "        print(\"Bye\")\n",
    "        break\n",
    "\n",
    "    for c in st_input:\n",
    "        if c.isalpha():                                          # if the character is an alphabet\n",
    "            if freq_dict.get(c.lower(),0)==0: seq+=c.lower()     # saving the sequence of the letters\n",
    "            freq_dict[c.lower()]=freq_dict.get(c.lower(),0)+1    # saving the frequency of the letters using dictionary\n",
    "            if c.isupper():                                      # when the letter is in uppercase\n",
    "                res += c.lower()                                 # change it into lowercase and save it into the result string\n",
    "            elif c.islower():                                    # when the letter is in lowercase\n",
    "                res += c.upper()                                 # change it into uppercase and save it into the result string\n",
    "        else:                                                    # if the character is not an alphabet\n",
    "            res += c                                             # simply save it as itself\n",
    "        \n",
    "    for ch in seq:\n",
    "        print(\"(\",ch,\" : \",freq_dict.get(ch),\")\",end=\"  \")\n",
    "    print('\\n',end=\"\")\n",
    "    print(res)  \n"
   ]
  },
  {
   "cell_type": "code",
   "execution_count": 16,
   "metadata": {},
   "outputs": [
    {
     "name": "stdout",
     "output_type": "stream",
     "text": [
      "Input:Sogang\n",
      "( s  :  1 )  ( o  :  1 )  ( g  :  2 )  ( a  :  1 )  ( n  :  1 )  \n",
      "sOGANG\n",
      "Input:sOGANG\n",
      "( s  :  1 )  ( o  :  1 )  ( g  :  2 )  ( a  :  1 )  ( n  :  1 )  \n",
      "Sogang\n",
      "Input:Univ\n",
      "( u  :  1 )  ( n  :  1 )  ( i  :  1 )  ( v  :  1 )  \n",
      "uNIV\n",
      "Input:Tel\n",
      "( t  :  1 )  ( e  :  1 )  ( l  :  1 )  \n",
      "tEL\n",
      "Input:STOP\n",
      "Bye\n"
     ]
    }
   ],
   "source": [
    "%run chan.py"
   ]
  },
  {
   "cell_type": "code",
   "execution_count": null,
   "metadata": {},
   "outputs": [],
   "source": []
  }
 ],
 "metadata": {
  "kernelspec": {
   "display_name": "Python 3",
   "language": "python",
   "name": "python3"
  },
  "language_info": {
   "codemirror_mode": {
    "name": "ipython",
    "version": 3
   },
   "file_extension": ".py",
   "mimetype": "text/x-python",
   "name": "python",
   "nbconvert_exporter": "python",
   "pygments_lexer": "ipython3",
   "version": "3.7.4"
  }
 },
 "nbformat": 4,
 "nbformat_minor": 2
}
