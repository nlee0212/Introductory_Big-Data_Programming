{
 "cells": [
  {
   "cell_type": "code",
   "execution_count": 23,
   "metadata": {},
   "outputs": [
    {
     "name": "stdout",
     "output_type": "stream",
     "text": [
      "Overwriting ban_stu.py\n"
     ]
    }
   ],
   "source": [
    "%%writefile ban_stu.py\n",
    "\n",
    "if __name__ == \"__main__\":\n",
    "    ## write file 'ban_stu.txt'\n",
    "    fp = open(\"ban_stu.txt\",\"wt\",encoding=\"cp949\")\n",
    "    fp.write(\"2 Alice Paul David Bob\\n\")\n",
    "    fp.write(\"4 Cindy Stella Bill\\n\")\n",
    "    fp.write(\"1 Henry Jenny Jessica Erin Tim\\n\")\n",
    "    fp.write(\"3 John Joe Tom\")\n",
    "    fp.close()\n",
    "        \n",
    "    stu_dict = {}\n",
    "    fp = open(\"ban_stu.txt\",\"rt\")\n",
    "    contents = fp.read()\n",
    "    line = contents.split('\\n')\n",
    "    for item in line:\n",
    "        key = int(item[0])\n",
    "        stu_dict[key] = item[2:]\n",
    "    print(\"In dictionary: \")\n",
    "    for key,value in stu_dict.items():\n",
    "        print(\"Key: {}, Value: {}\".format(key,value))\n",
    "    fp.close()"
   ]
  },
  {
   "cell_type": "code",
   "execution_count": 24,
   "metadata": {},
   "outputs": [
    {
     "name": "stdout",
     "output_type": "stream",
     "text": [
      "In dictionary: \n",
      "Key: 2, Value: Alice Paul David Bob\n",
      "Key: 4, Value: Cindy Stella Bill\n",
      "Key: 1, Value: Henry Jenny Jessica Erin Tim\n",
      "Key: 3, Value: John Joe Tom\n"
     ]
    }
   ],
   "source": [
    "%run ban_stu"
   ]
  },
  {
   "cell_type": "code",
   "execution_count": null,
   "metadata": {},
   "outputs": [],
   "source": []
  }
 ],
 "metadata": {
  "kernelspec": {
   "display_name": "Python 3",
   "language": "python",
   "name": "python3"
  },
  "language_info": {
   "codemirror_mode": {
    "name": "ipython",
    "version": 3
   },
   "file_extension": ".py",
   "mimetype": "text/x-python",
   "name": "python",
   "nbconvert_exporter": "python",
   "pygments_lexer": "ipython3",
   "version": "3.7.4"
  }
 },
 "nbformat": 4,
 "nbformat_minor": 2
}
