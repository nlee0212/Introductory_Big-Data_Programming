{
 "cells": [
  {
   "cell_type": "code",
   "execution_count": 40,
   "metadata": {},
   "outputs": [
    {
     "name": "stdout",
     "output_type": "stream",
     "text": [
      "Overwriting html_ex.txt\n"
     ]
    }
   ],
   "source": [
    "%%writefile html_ex.txt\n",
    "<HEAD>\n",
    "<title>Seo Maria's Homepage</title>\n",
    "</HEAD>\n"
   ]
  },
  {
   "cell_type": "code",
   "execution_count": 41,
   "metadata": {},
   "outputs": [
    {
     "name": "stdout",
     "output_type": "stream",
     "text": [
      "Overwriting search_1.py\n"
     ]
    }
   ],
   "source": [
    "%%writefile search_1.py\n",
    "\n",
    "import re\n",
    "\n",
    "if __name__ == \"__main__\":\n",
    "    with open(\"html_ex.txt\",\"rt\") as fp:\n",
    "        content = fp.read()\n",
    "    result = re.search('(?<=\\<[Tt][Ii][tT][lL][eE]\\>).*(?=\\<\\/[Tt][Ii][tT][lL][eE]\\>)',content)\n",
    "    print(result.group())"
   ]
  },
  {
   "cell_type": "code",
   "execution_count": 42,
   "metadata": {},
   "outputs": [
    {
     "name": "stdout",
     "output_type": "stream",
     "text": [
      "Seo Maria's Homepage\n"
     ]
    }
   ],
   "source": [
    "%run search_1"
   ]
  },
  {
   "cell_type": "code",
   "execution_count": 35,
   "metadata": {},
   "outputs": [
    {
     "name": "stdout",
     "output_type": "stream",
     "text": [
      "Overwriting search_2.py\n"
     ]
    }
   ],
   "source": [
    "%%writefile search_2.py\n",
    "\n",
    "import re\n",
    "\n",
    "if __name__ == \"__main__\":\n",
    "    list = [\"foo.bar\",\"autoexec.bat\",\"sendmail.cf\",\"checksum.exe\"]\n",
    "    p = re.compile(r\"(.*\\.bat$)\")\n",
    "    print(\"Problem 1: 파일이름 중에서 확장자가 bat인 파일을 제외한 파일을 찾으시오\")\n",
    "    for item in list:\n",
    "        file = p.match(item)\n",
    "        if(file == None):\n",
    "            print(item)\n",
    "    print(\"\\nProblem 2: 파일이름 중에서 확장자가 bat 또는 exe인 파일을 제외한 파일을 찾으시오\")\n",
    "    p = re.compile(r\".*\\.(bat$|exe$)\")\n",
    "    for item in list:\n",
    "        file = p.match(item)\n",
    "        if(file == None):\n",
    "            print(item)"
   ]
  },
  {
   "cell_type": "code",
   "execution_count": 36,
   "metadata": {},
   "outputs": [
    {
     "name": "stdout",
     "output_type": "stream",
     "text": [
      "Problem 1: 파일이름 중에서 확장자가 bat인 파일을 제외한 파일을 찾으시오\n",
      "foo.bar\n",
      "sendmail.cf\n",
      "checksum.exe\n",
      "\n",
      "Problem 2: 파일이름 중에서 확장자가 bat 또는 exe인 파일을 제외한 파일을 찾으시오\n",
      "foo.bar\n",
      "sendmail.cf\n"
     ]
    }
   ],
   "source": [
    "%run search_2"
   ]
  },
  {
   "cell_type": "code",
   "execution_count": null,
   "metadata": {},
   "outputs": [],
   "source": []
  }
 ],
 "metadata": {
  "kernelspec": {
   "display_name": "Python 3",
   "language": "python",
   "name": "python3"
  },
  "language_info": {
   "codemirror_mode": {
    "name": "ipython",
    "version": 3
   },
   "file_extension": ".py",
   "mimetype": "text/x-python",
   "name": "python",
   "nbconvert_exporter": "python",
   "pygments_lexer": "ipython3",
   "version": "3.7.4"
  }
 },
 "nbformat": 4,
 "nbformat_minor": 2
}
