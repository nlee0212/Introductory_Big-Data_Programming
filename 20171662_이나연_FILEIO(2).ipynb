{
 "cells": [
  {
   "cell_type": "markdown",
   "metadata": {},
   "source": [
    "1. information.txt라는 텍스트 파일을 생성하고 다음의 데이터를 출력하는 프로그램을 작성하시오 (write 메소드를 이용하시오)."
   ]
  },
  {
   "cell_type": "code",
   "execution_count": 16,
   "metadata": {},
   "outputs": [
    {
     "name": "stdout",
     "output_type": "stream",
     "text": [
      "Overwriting infowrite.py\n"
     ]
    }
   ],
   "source": [
    "%%writefile infowrite.py\n",
    "\n",
    "if __name__ == \"__main__\":\n",
    "    fp = open(\"information.txt\",\"wt\")\n",
    "    fp.write(\"3\\n\")\n",
    "    fp.write(\"3.14\\n\")\n",
    "    fp.write(\"\\\"3.14\\\"\")\n",
    "    fp.close()"
   ]
  },
  {
   "cell_type": "code",
   "execution_count": 17,
   "metadata": {},
   "outputs": [],
   "source": [
    "%run infowrite"
   ]
  },
  {
   "cell_type": "markdown",
   "metadata": {},
   "source": [
    "2.위의 information.txt를 읽어서 화면에 출력하는 프로그램을 작성하시오."
   ]
  },
  {
   "cell_type": "code",
   "execution_count": 18,
   "metadata": {},
   "outputs": [
    {
     "name": "stdout",
     "output_type": "stream",
     "text": [
      "Overwriting inforead.py\n"
     ]
    }
   ],
   "source": [
    "%%writefile inforead.py\n",
    "\n",
    "if __name__ == \"__main__\":\n",
    "    fp = open(\"information.txt\",\"rt\")\n",
    "    contents = fp.read()\n",
    "    print(contents)\n",
    "    fp.close()"
   ]
  },
  {
   "cell_type": "code",
   "execution_count": 19,
   "metadata": {},
   "outputs": [
    {
     "name": "stdout",
     "output_type": "stream",
     "text": [
      "3\n",
      "3.14\n",
      "\"3.14\"\n"
     ]
    }
   ],
   "source": [
    "%run inforead"
   ]
  },
  {
   "cell_type": "markdown",
   "metadata": {},
   "source": [
    "3.information.dat라는 파일을 생성하고 상기의 데이터를 직렬화하는 프로그램을 작성하시오."
   ]
  },
  {
   "cell_type": "code",
   "execution_count": 24,
   "metadata": {},
   "outputs": [
    {
     "name": "stdout",
     "output_type": "stream",
     "text": [
      "Overwriting infoserialize.py\n"
     ]
    }
   ],
   "source": [
    "%%writefile infoserialize.py\n",
    "\n",
    "import pickle\n",
    "if __name__ == \"__main__\":\n",
    "    fp = open(\"information.dat\",\"wb\")\n",
    "    pickle.dump(3,fp)\n",
    "    pickle.dump(3.14,fp)\n",
    "    pickle.dump(\"\\\"3.14\\\"\",fp)\n",
    "    fp.close()"
   ]
  },
  {
   "cell_type": "code",
   "execution_count": 25,
   "metadata": {},
   "outputs": [],
   "source": [
    "%run infoserialize"
   ]
  },
  {
   "cell_type": "markdown",
   "metadata": {},
   "source": [
    "4.위의 information.dat를 역직렬화하고 화면에 출력하는 프로그램을 작성하시오."
   ]
  },
  {
   "cell_type": "code",
   "execution_count": 26,
   "metadata": {},
   "outputs": [
    {
     "name": "stdout",
     "output_type": "stream",
     "text": [
      "Overwriting infodeserialize.py\n"
     ]
    }
   ],
   "source": [
    "%%writefile infodeserialize.py\n",
    "\n",
    "import pickle\n",
    "if __name__ == \"__main__\":\n",
    "    fp = open(\"information.dat\",\"rb\")\n",
    "    while True:\n",
    "        try:\n",
    "            print(pickle.load(fp))\n",
    "        except:\n",
    "            break\n",
    "    fp.close()"
   ]
  },
  {
   "cell_type": "code",
   "execution_count": 27,
   "metadata": {},
   "outputs": [
    {
     "name": "stdout",
     "output_type": "stream",
     "text": [
      "3\n",
      "3.14\n",
      "\"3.14\"\n"
     ]
    }
   ],
   "source": [
    "%run infodeserialize"
   ]
  },
  {
   "cell_type": "code",
   "execution_count": null,
   "metadata": {},
   "outputs": [],
   "source": []
  }
 ],
 "metadata": {
  "kernelspec": {
   "display_name": "Python 3",
   "language": "python",
   "name": "python3"
  },
  "language_info": {
   "codemirror_mode": {
    "name": "ipython",
    "version": 3
   },
   "file_extension": ".py",
   "mimetype": "text/x-python",
   "name": "python",
   "nbconvert_exporter": "python",
   "pygments_lexer": "ipython3",
   "version": "3.7.4"
  }
 },
 "nbformat": 4,
 "nbformat_minor": 2
}
