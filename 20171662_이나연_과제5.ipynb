{
 "cells": [
  {
   "cell_type": "code",
   "execution_count": 10,
   "metadata": {},
   "outputs": [
    {
     "name": "stdout",
     "output_type": "stream",
     "text": [
      "Overwriting dayname_leap.py\n"
     ]
    }
   ],
   "source": [
    "%%writefile dayname_leap.py\n",
    "\n",
    "def is_leap(year):\n",
    "    if year%4 == 0:\n",
    "        if year%400 == 0 or year%100 != 0:\n",
    "            return 1\n",
    "        else:\n",
    "            return 0\n",
    "    return 0\n",
    "        \n",
    "def input_date():\n",
    "    year = int(input(\"__년도를 입력하시오:\"))\n",
    "    month = int(input(\"__월을 입력하시오:\"))\n",
    "    day = int(input(\"__일을 입력하시오:\"))\n",
    "    return year, month, day\n",
    "    \n",
    "def get_day_name(year, month, day):\n",
    "    if month > 12 or month <= 0:\n",
    "        return \"입력하신 월이 범위에 없습니다. 1부터 12 사이의 값을 입력하세요.\"\n",
    "    \n",
    "    if day <= 0 or year <= 0:\n",
    "        return \"양수를 입력하세요.\"\n",
    "\n",
    "    if month == 2:\n",
    "        if is_leap(year) == 1 and day > 29:\n",
    "            return \"2월은 29일까지 있습니다.\"\n",
    "        elif is_leap(year) == 0 and day > 28:\n",
    "            return \"2월은 28일까지 있습니다.\"\n",
    "    \n",
    "    day_num=0\n",
    "    day_name={\n",
    "        1: \"월요일\", 2: \"화요일\", 3: \"수요일\", \n",
    "        4: \"목요일\", 5: \"금요일\", 6: \"토요일\", \n",
    "        0: \"일요일\"\n",
    "    }\n",
    "    \n",
    "    for i in range(1,year):\n",
    "        if(is_leap(i)):\n",
    "            day_num+=366\n",
    "        else:\n",
    "            day_num+=365\n",
    "            \n",
    "    for m in range(1,month):\n",
    "        if m<8:\n",
    "            if m%2==1:\n",
    "                day_num+=31\n",
    "            elif m!= 2:\n",
    "                day_num+=30\n",
    "            elif (is_leap(year)):\n",
    "                day_num+=29\n",
    "            else: day_num+=28\n",
    "        else:\n",
    "            if m%2==0:\n",
    "                day_num+=31\n",
    "            else:\n",
    "                day_num+=30\n",
    "                \n",
    "    day_num+=day\n",
    "    return day_name.get(day_num%7)\n",
    "\n",
    "if __name__ == \"__main__\":\n",
    "    year, month, day = input_date()\n",
    "    day_name = get_day_name(year,month,day)\n",
    "    print(day_name)\n",
    "    if(is_leap(year)) == True:\n",
    "        print(\"입력하신 %s은 윤년입니다\" %year)"
   ]
  },
  {
   "cell_type": "code",
   "execution_count": 11,
   "metadata": {},
   "outputs": [
    {
     "name": "stdout",
     "output_type": "stream",
     "text": [
      "__년도를 입력하시오:2020\n",
      "__월을 입력하시오:4\n",
      "__일을 입력하시오:14\n",
      "화요일\n",
      "입력하신 2020은 윤년입니다\n"
     ]
    }
   ],
   "source": [
    "%run dayname_leap.py"
   ]
  },
  {
   "cell_type": "code",
   "execution_count": 7,
   "metadata": {},
   "outputs": [
    {
     "name": "stdout",
     "output_type": "stream",
     "text": [
      "__년도를 입력하시오:-2\n",
      "__월을 입력하시오:4\n",
      "__일을 입력하시오:3\n",
      "양수를 입력하세요.\n"
     ]
    }
   ],
   "source": [
    "%run dayname_leap.py"
   ]
  },
  {
   "cell_type": "code",
   "execution_count": null,
   "metadata": {},
   "outputs": [],
   "source": [
    "import dayname_leap"
   ]
  },
  {
   "cell_type": "code",
   "execution_count": null,
   "metadata": {},
   "outputs": [],
   "source": [
    "print(dayname_leap.is_leap(1999))"
   ]
  },
  {
   "cell_type": "code",
   "execution_count": 9,
   "metadata": {},
   "outputs": [
    {
     "ename": "AttributeError",
     "evalue": "'str' object has no attribute 'input_date'",
     "output_type": "error",
     "traceback": [
      "\u001b[1;31m---------------------------------------------------------------------------\u001b[0m",
      "\u001b[1;31mAttributeError\u001b[0m                            Traceback (most recent call last)",
      "\u001b[1;32m<ipython-input-9-a92e9d02259f>\u001b[0m in \u001b[0;36m<module>\u001b[1;34m\u001b[0m\n\u001b[1;32m----> 1\u001b[1;33m \u001b[0mprint\u001b[0m\u001b[1;33m(\u001b[0m\u001b[0mday_name\u001b[0m\u001b[1;33m.\u001b[0m\u001b[0minput_date\u001b[0m\u001b[1;33m(\u001b[0m\u001b[1;33m)\u001b[0m\u001b[1;33m)\u001b[0m\u001b[1;33m\u001b[0m\u001b[1;33m\u001b[0m\u001b[0m\n\u001b[0m",
      "\u001b[1;31mAttributeError\u001b[0m: 'str' object has no attribute 'input_date'"
     ]
    }
   ],
   "source": []
  },
  {
   "cell_type": "code",
   "execution_count": null,
   "metadata": {},
   "outputs": [],
   "source": []
  }
 ],
 "metadata": {
  "kernelspec": {
   "display_name": "Python 3",
   "language": "python",
   "name": "python3"
  },
  "language_info": {
   "codemirror_mode": {
    "name": "ipython",
    "version": 3
   },
   "file_extension": ".py",
   "mimetype": "text/x-python",
   "name": "python",
   "nbconvert_exporter": "python",
   "pygments_lexer": "ipython3",
   "version": "3.7.4"
  }
 },
 "nbformat": 4,
 "nbformat_minor": 2
}
