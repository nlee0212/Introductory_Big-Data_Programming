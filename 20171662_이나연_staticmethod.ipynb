{
 "cells": [
  {
   "cell_type": "code",
   "execution_count": 33,
   "metadata": {},
   "outputs": [
    {
     "name": "stdout",
     "output_type": "stream",
     "text": [
      "date: 2019, 9, 28\n",
      "date: 2019, 9, 28\n",
      "date: today\n",
      "date: today\n",
      "date: 2019, 9, 27\n",
      "date: 2019, 9, 27\n"
     ]
    }
   ],
   "source": [
    "from datetime import date, timedelta\n",
    "import time\n",
    "\n",
    "class Date(object):\n",
    "    def __init__(self,date_str):\n",
    "        self.Date_str = date_str\n",
    "        self.year = 0\n",
    "        self.month = 0\n",
    "        self.day = 0\n",
    "        self.tokenize()\n",
    "        self.date = \"\"\n",
    "        self.date_set()\n",
    "        \n",
    "    def tokenize(self):\n",
    "        arr = self.Date_str.split(', ')\n",
    "        self.year = int(arr[0])\n",
    "        self.month = int(arr[1])\n",
    "        self.day = int(arr[2])\n",
    "        \n",
    "    @staticmethod\n",
    "    def now():\n",
    "        t = time.localtime()\n",
    "        date_str = str(t.tm_year)+\", \"+str(t.tm_mon)+\", \"+str(t.tm_mday)\n",
    "        return Date(date_str)\n",
    "        \n",
    "    def show(self):\n",
    "        t = time.localtime()\n",
    "        if self.year == t.tm_year and self.month == t.tm_mon and self.day == t.tm_mday:\n",
    "            print(\"date: today\")\n",
    "        else:\n",
    "            print(\"date: \"+str(self.year)+\", \"+str(self.month)+\", \"+str(self.day))\n",
    "        \n",
    "    def date_set(self):\n",
    "        t = time.localtime()\n",
    "        if self.year == t.tm_year and self.month == t.tm_mon and self.day == t.tm_mday:\n",
    "            self.date = \"date: today\"\n",
    "        else:\n",
    "            self.date = \"date: \"+str(self.year)+\", \"+str(self.month)+\", \"+str(self.day)\n",
    "    \n",
    "    @staticmethod\n",
    "    def yesterday(date_str):\n",
    "        arr = date_str.split(', ')\n",
    "        year = int(arr[0])\n",
    "        month = int(arr[1])\n",
    "        day = int(arr[2])\n",
    "        today = date(year,month,day)\n",
    "        yesterday = today + timedelta(days=-1)\n",
    "        return Date(yesterday.strftime(\"%Y, %m, %d\"))\n",
    "        \n",
    "        \n",
    "        \n",
    "a = Date(\"2019, 9, 28\")\n",
    "a.show()\n",
    "print(a.date)\n",
    "\n",
    "b = Date.now()\n",
    "b.show()\n",
    "print(b.date)\n",
    "\n",
    "c = Date.yesterday(\"2019, 9, 28\")\n",
    "c.show()\n",
    "print(c.date)"
   ]
  },
  {
   "cell_type": "code",
   "execution_count": null,
   "metadata": {},
   "outputs": [],
   "source": []
  },
  {
   "cell_type": "code",
   "execution_count": null,
   "metadata": {},
   "outputs": [],
   "source": []
  }
 ],
 "metadata": {
  "kernelspec": {
   "display_name": "Python 3",
   "language": "python",
   "name": "python3"
  },
  "language_info": {
   "codemirror_mode": {
    "name": "ipython",
    "version": 3
   },
   "file_extension": ".py",
   "mimetype": "text/x-python",
   "name": "python",
   "nbconvert_exporter": "python",
   "pygments_lexer": "ipython3",
   "version": "3.7.4"
  }
 },
 "nbformat": 4,
 "nbformat_minor": 2
}
